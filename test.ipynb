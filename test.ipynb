{
 "cells": [
  {
   "cell_type": "code",
   "execution_count": 1,
   "metadata": {},
   "outputs": [],
   "source": [
    "from practice.model.preference_recommend import PreferenceRecommend\n",
    "p = PreferenceRecommend()\n",
    "\n"
   ]
  },
  {
   "cell_type": "code",
   "execution_count": 2,
   "metadata": {},
   "outputs": [
    {
     "ename": "KeyError",
     "evalue": "1",
     "output_type": "error",
     "traceback": [
      "\u001b[0;31m---------------------------------------------------------------------------\u001b[0m",
      "\u001b[0;31mKeyError\u001b[0m                                  Traceback (most recent call last)",
      "Cell \u001b[0;32mIn [2], line 1\u001b[0m\n\u001b[0;32m----> 1\u001b[0m \u001b[39mprint\u001b[39m(p\u001b[39m.\u001b[39;49mequation9(\u001b[39m50\u001b[39;49m))\n",
      "File \u001b[0;32m~/Documents/practice/recommend_practice/practice/model/preference_recommend.py:162\u001b[0m, in \u001b[0;36mequation9\u001b[0;34m(self, user_id)\u001b[0m\n\u001b[1;32m    160\u001b[0m n \u001b[39m=\u001b[39m \u001b[39mlen\u001b[39m(data)\n\u001b[1;32m    161\u001b[0m mean \u001b[39m=\u001b[39m \u001b[39msum\u001b[39m(data) \u001b[39m/\u001b[39m n\n\u001b[0;32m--> 162\u001b[0m \u001b[39mreturn\u001b[39;00m \u001b[39msum\u001b[39m((x \u001b[39m-\u001b[39m mean) \u001b[39m*\u001b[39m\u001b[39m*\u001b[39m \u001b[39m2\u001b[39m \u001b[39mfor\u001b[39;00m x \u001b[39min\u001b[39;00m data) \u001b[39m/\u001b[39m (n \u001b[39m-\u001b[39m ddof)\n",
      "File \u001b[0;32m~/Documents/practice/recommend_practice/practice/model/preference_recommend.py:162\u001b[0m, in \u001b[0;36m<listcomp>\u001b[0;34m(.0)\u001b[0m\n\u001b[1;32m    160\u001b[0m n \u001b[39m=\u001b[39m \u001b[39mlen\u001b[39m(data)\n\u001b[1;32m    161\u001b[0m mean \u001b[39m=\u001b[39m \u001b[39msum\u001b[39m(data) \u001b[39m/\u001b[39m n\n\u001b[0;32m--> 162\u001b[0m \u001b[39mreturn\u001b[39;00m \u001b[39msum\u001b[39m((x \u001b[39m-\u001b[39m mean) \u001b[39m*\u001b[39m\u001b[39m*\u001b[39m \u001b[39m2\u001b[39m \u001b[39mfor\u001b[39;00m x \u001b[39min\u001b[39;00m data) \u001b[39m/\u001b[39m (n \u001b[39m-\u001b[39m ddof)\n",
      "File \u001b[0;32m~/Documents/practice/recommend_practice/practice/model/preference_recommend.py:125\u001b[0m, in \u001b[0;36mequation4\u001b[0;34m(self, user_id, tag_id)\u001b[0m\n\u001b[1;32m    120\u001b[0m         wt[tag_id] = rt[tag_id] -  r_mu\n\u001b[1;32m    122\u001b[0m     return wt \n\u001b[1;32m    124\u001b[0m def equation4(self, user_id, tag_id) -> float: \n\u001b[0;32m--> 125\u001b[0m     #  U = cov * sig * |wt|\n\u001b[1;32m    126\u001b[0m     # importance of the tags\n\u001b[1;32m    127\u001b[0m     # OK\n\u001b[1;32m    129\u001b[0m     cov = self.equation5(user_id, tag_id)\n\u001b[1;32m    130\u001b[0m     sig = self.equation6(user_id, tag_id)\n",
      "\u001b[0;31mKeyError\u001b[0m: 1"
     ]
    }
   ],
   "source": [
    "print(p.equation9(50))\n",
    "\n"
   ]
  },
  {
   "cell_type": "code",
   "execution_count": null,
   "metadata": {},
   "outputs": [],
   "source": [
    "a = {1: 1, 2: 9, 3:4, 4: 2 }"
   ]
  }
 ],
 "metadata": {
  "kernelspec": {
   "display_name": "Python 3.9.5 64-bit ('3.9.5')",
   "language": "python",
   "name": "python3"
  },
  "language_info": {
   "codemirror_mode": {
    "name": "ipython",
    "version": 3
   },
   "file_extension": ".py",
   "mimetype": "text/x-python",
   "name": "python",
   "nbconvert_exporter": "python",
   "pygments_lexer": "ipython3",
   "version": "3.9.5"
  },
  "orig_nbformat": 4,
  "vscode": {
   "interpreter": {
    "hash": "91782bb734f16dfd5bb5a5244810a4e8f160d55b6aee4db6a284a69b48946542"
   }
  }
 },
 "nbformat": 4,
 "nbformat_minor": 2
}
