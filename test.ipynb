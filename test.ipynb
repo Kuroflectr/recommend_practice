{
 "cells": [
  {
   "cell_type": "code",
   "execution_count": 1,
   "metadata": {},
   "outputs": [
    {
     "name": "stderr",
     "output_type": "stream",
     "text": [
      "/Users/hayashi/Documents/practice/recommend_practice/practice/model/preference_recommend.py:101: RuntimeWarning: divide by zero encountered in double_scalars\n",
      "  \n"
     ]
    },
    {
     "ename": "KeyError",
     "evalue": "3",
     "output_type": "error",
     "traceback": [
      "\u001b[0;31m---------------------------------------------------------------------------\u001b[0m",
      "\u001b[0;31mKeyError\u001b[0m                                  Traceback (most recent call last)",
      "Cell \u001b[0;32mIn [1], line 3\u001b[0m\n\u001b[1;32m      1\u001b[0m \u001b[38;5;28;01mfrom\u001b[39;00m \u001b[38;5;21;01mpractice\u001b[39;00m\u001b[38;5;21;01m.\u001b[39;00m\u001b[38;5;21;01mmodel\u001b[39;00m\u001b[38;5;21;01m.\u001b[39;00m\u001b[38;5;21;01mpreference_recommend\u001b[39;00m \u001b[38;5;28;01mimport\u001b[39;00m PreferenceRecommend\n\u001b[1;32m      2\u001b[0m p \u001b[38;5;241m=\u001b[39m PreferenceRecommend()\n\u001b[0;32m----> 3\u001b[0m \u001b[43mp\u001b[49m\u001b[38;5;241;43m.\u001b[39;49m\u001b[43mequation9\u001b[49m\u001b[43m(\u001b[49m\u001b[38;5;241;43m10\u001b[39;49m\u001b[43m)\u001b[49m\n",
      "File \u001b[0;32m~/Documents/practice/recommend_practice/practice/model/preference_recommend.py:113\u001b[0m, in \u001b[0;36mequation9\u001b[0;34m(self, user_id)\u001b[0m\n\u001b[1;32m    111\u001b[0m def variance(self, data, ddof=0) -> float:\n\u001b[1;32m    112\u001b[0m     n = len(data)\n\u001b[0;32m--> 113\u001b[0m     mean = sum(data) / n\n\u001b[1;32m    114\u001b[0m     return sum((x - mean) ** 2 for x in data) / (n - ddof)\n\u001b[1;32m    115\u001b[0m \n",
      "File \u001b[0;32m~/Documents/practice/recommend_practice/practice/model/preference_recommend.py:113\u001b[0m, in \u001b[0;36m<listcomp>\u001b[0;34m(.0)\u001b[0m\n\u001b[1;32m    111\u001b[0m def variance(self, data, ddof=0) -> float:\n\u001b[1;32m    112\u001b[0m     n = len(data)\n\u001b[0;32m--> 113\u001b[0m     mean = sum(data) / n\n\u001b[1;32m    114\u001b[0m     return sum((x - mean) ** 2 for x in data) / (n - ddof)\n\u001b[1;32m    115\u001b[0m \n",
      "File \u001b[0;32m~/Documents/practice/recommend_practice/practice/model/preference_recommend.py:79\u001b[0m, in \u001b[0;36mequation4\u001b[0;34m(self, user_id, tag_id)\u001b[0m\n\u001b[1;32m     77\u001b[0m         wt[tag_id] = rt[tag_id] -  r_mu\n\u001b[1;32m     78\u001b[0m \n\u001b[0;32m---> 79\u001b[0m     return wt \n\u001b[1;32m     80\u001b[0m \n\u001b[1;32m     81\u001b[0m def equation4(self, user_id, tag_id) -> float: \n",
      "File \u001b[0;32m~/Documents/practice/recommend_practice/practice/model/preference_recommend.py:95\u001b[0m, in \u001b[0;36mequation6\u001b[0;34m(self, user_id, tag_id)\u001b[0m\n\u001b[1;32m     93\u001b[0m \n\u001b[1;32m     94\u001b[0m         i   = self.i_rated(user_id)\n\u001b[0;32m---> 95\u001b[0m         it  = self.it_rated( user_id, tag_id)\n\u001b[1;32m     96\u001b[0m         \n\u001b[1;32m     97\u001b[0m         return min([  it/i , (i-it)/ i  ])\n",
      "\u001b[0;31mKeyError\u001b[0m: 3"
     ]
    }
   ],
   "source": [
    "from practice.model.preference_recommend import PreferenceRecommend\n",
    "p = PreferenceRecommend()\n",
    "p.equation9(10)\n"
   ]
  },
  {
   "cell_type": "code",
   "execution_count": 3,
   "metadata": {},
   "outputs": [
    {
     "ename": "KeyError",
     "evalue": "8685",
     "output_type": "error",
     "traceback": [
      "\u001b[0;31m---------------------------------------------------------------------------\u001b[0m",
      "\u001b[0;31mKeyError\u001b[0m                                  Traceback (most recent call last)",
      "Cell \u001b[0;32mIn [3], line 1\u001b[0m\n\u001b[0;32m----> 1\u001b[0m \u001b[43mp\u001b[49m\u001b[38;5;241;43m.\u001b[39;49m\u001b[43mequation2\u001b[49m\u001b[43m(\u001b[49m\u001b[38;5;241;43m1\u001b[39;49m\u001b[43m)\u001b[49m\n",
      "File \u001b[0;32m~/Documents/practice/recommend_practice/practice/model/preference_recommend.py:52\u001b[0m, in \u001b[0;36mequation2\u001b[0;34m(self, user_id)\u001b[0m\n\u001b[1;32m     50\u001b[0m def equation2(self, user_id) -> dict: \n\u001b[1;32m     51\u001b[0m \n\u001b[0;32m---> 52\u001b[0m     rt = self.equation1(user_id)\n\u001b[1;32m     53\u001b[0m     user_ratings = self.ratings.get_ratings(user_id)\n\u001b[1;32m     54\u001b[0m     user_ratings_ratings = [rating.rating for rating in user_ratings]\n",
      "File \u001b[0;32m~/Documents/practice/recommend_practice/practice/model/preference_recommend.py:42\u001b[0m, in \u001b[0;36mequation1\u001b[0;34m(self, user_id)\u001b[0m\n\u001b[1;32m     40\u001b[0m \n\u001b[1;32m     41\u001b[0m     def equation1(self, user_id ) -> dict:\n\u001b[0;32m---> 42\u001b[0m         rt_vec = self.rt_vec(user_id)\n\u001b[1;32m     43\u001b[0m         rt = {}\n\u001b[1;32m     44\u001b[0m         for tag_id in rt_vec.keys(): \n",
      "File \u001b[0;32m~/Documents/practice/recommend_practice/practice/model/preference_recommend.py:34\u001b[0m, in \u001b[0;36mrt_vec\u001b[0;34m(self, user_id)\u001b[0m\n\u001b[1;32m     32\u001b[0m rt = { }\n\u001b[1;32m     33\u001b[0m for movie_id in movie_ids: \n\u001b[0;32m---> 34\u001b[0m     tags = self.genome_scores.get_tags_by_movieid(movie_id)\n\u001b[1;32m     35\u001b[0m     for tag_id in tags:\n\u001b[1;32m     36\u001b[0m         if tag_id not in rt:\n",
      "File \u001b[0;32m~/Documents/practice/recommend_practice/practice/data/genome_scores.py:54\u001b[0m, in \u001b[0;36mget_tags_by_movieid\u001b[0;34m(self, movie_id)\u001b[0m\n\u001b[1;32m     53\u001b[0m \u001b[39mdef\u001b[39;00m \u001b[39mget_tags_by_movieid\u001b[39m(\u001b[39mself\u001b[39m, movie_id ) \u001b[39m-\u001b[39m\u001b[39m>\u001b[39m \u001b[39mlist\u001b[39m: \n\u001b[0;32m---> 54\u001b[0m     \u001b[39mself\u001b[39m\u001b[39m.\u001b[39mset_tags_by_movieid()\n\u001b[1;32m     56\u001b[0m     \u001b[39mreturn\u001b[39;00m \u001b[39mself\u001b[39m\u001b[39m.\u001b[39mtags_by_movieid[movie_id]\n",
      "\u001b[0;31mKeyError\u001b[0m: 8685"
     ]
    }
   ],
   "source": [
    "p.equation2(1)"
   ]
  },
  {
   "cell_type": "code",
   "execution_count": 4,
   "metadata": {},
   "outputs": [
    {
     "ename": "KeyError",
     "evalue": "8685",
     "output_type": "error",
     "traceback": [
      "\u001b[0;31m---------------------------------------------------------------------------\u001b[0m",
      "\u001b[0;31mKeyError\u001b[0m                                  Traceback (most recent call last)",
      "Cell \u001b[0;32mIn [4], line 1\u001b[0m\n\u001b[0;32m----> 1\u001b[0m \u001b[43mp\u001b[49m\u001b[38;5;241;43m.\u001b[39;49m\u001b[43mequation1\u001b[49m\u001b[43m(\u001b[49m\u001b[38;5;241;43m1\u001b[39;49m\u001b[43m)\u001b[49m\n",
      "File \u001b[0;32m~/Documents/practice/recommend_practice/practice/model/preference_recommend.py:42\u001b[0m, in \u001b[0;36mequation1\u001b[0;34m(self, user_id)\u001b[0m\n\u001b[1;32m     40\u001b[0m \n\u001b[1;32m     41\u001b[0m     def equation1(self, user_id ) -> dict:\n\u001b[0;32m---> 42\u001b[0m         rt_vec = self.rt_vec(user_id)\n\u001b[1;32m     43\u001b[0m         rt = {}\n\u001b[1;32m     44\u001b[0m         for tag_id in rt_vec.keys(): \n",
      "File \u001b[0;32m~/Documents/practice/recommend_practice/practice/model/preference_recommend.py:34\u001b[0m, in \u001b[0;36mrt_vec\u001b[0;34m(self, user_id)\u001b[0m\n\u001b[1;32m     32\u001b[0m rt = { }\n\u001b[1;32m     33\u001b[0m for movie_id in movie_ids: \n\u001b[0;32m---> 34\u001b[0m     tags = self.genome_scores.get_tags_by_movieid(movie_id)\n\u001b[1;32m     35\u001b[0m     for tag_id in tags:\n\u001b[1;32m     36\u001b[0m         if tag_id not in rt:\n",
      "File \u001b[0;32m~/Documents/practice/recommend_practice/practice/data/genome_scores.py:54\u001b[0m, in \u001b[0;36mget_tags_by_movieid\u001b[0;34m(self, movie_id)\u001b[0m\n\u001b[1;32m     53\u001b[0m \u001b[39mdef\u001b[39;00m \u001b[39mget_tags_by_movieid\u001b[39m(\u001b[39mself\u001b[39m, movie_id ) \u001b[39m-\u001b[39m\u001b[39m>\u001b[39m \u001b[39mlist\u001b[39m: \n\u001b[0;32m---> 54\u001b[0m     \u001b[39mself\u001b[39m\u001b[39m.\u001b[39mset_tags_by_movieid()\n\u001b[1;32m     56\u001b[0m     \u001b[39mreturn\u001b[39;00m \u001b[39mself\u001b[39m\u001b[39m.\u001b[39mtags_by_movieid[movie_id]\n",
      "\u001b[0;31mKeyError\u001b[0m: 8685"
     ]
    }
   ],
   "source": [
    "p.equation1(1)"
   ]
  },
  {
   "cell_type": "code",
   "execution_count": null,
   "metadata": {},
   "outputs": [],
   "source": []
  }
 ],
 "metadata": {
  "kernelspec": {
   "display_name": "Python 3.9.5 64-bit ('3.9.5')",
   "language": "python",
   "name": "python3"
  },
  "language_info": {
   "codemirror_mode": {
    "name": "ipython",
    "version": 3
   },
   "file_extension": ".py",
   "mimetype": "text/x-python",
   "name": "python",
   "nbconvert_exporter": "python",
   "pygments_lexer": "ipython3",
   "version": "3.9.5"
  },
  "orig_nbformat": 4,
  "vscode": {
   "interpreter": {
    "hash": "91782bb734f16dfd5bb5a5244810a4e8f160d55b6aee4db6a284a69b48946542"
   }
  }
 },
 "nbformat": 4,
 "nbformat_minor": 2
}
